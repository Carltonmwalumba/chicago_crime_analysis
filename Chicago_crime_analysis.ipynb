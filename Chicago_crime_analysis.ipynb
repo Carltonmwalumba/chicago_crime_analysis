{
 "cells": [
  {
   "cell_type": "markdown",
   "id": "313caf65-1329-4f48-85b7-962f59322575",
   "metadata": {},
   "source": [
    "# ANALYZING CHICAGO CRIME INCIDENTS\n",
    "--------------"
   ]
  },
  {
   "cell_type": "markdown",
   "id": "9fc381ee-af05-4b4c-a7ba-b5193c54f2cf",
   "metadata": {},
   "source": [
    "In this notebook, we focuse on retrieving crime incidents reports from an online web source, analyse the data and create different visualizations.\n",
    "\n",
    "The dataset reflects reported incidents of crime (with the exception of murders where data exists for each victim) that occurred in the City of Chicago from 2001 to present, minus the most recent seven days.\n",
    "\n",
    "A detailed description of this dataset and the original dataset can be obtained from the Chicago Data Portal at:\n",
    "\n",
    "https://data.cityofchicago.org/Public-Safety/Crimes-2001-to-present/ijzp-q8t2\n",
    "\n",
    "We will also use another dataset represting representing Chicago census data to retrieve necessary data for our analysis\n"
   ]
  },
  {
   "cell_type": "raw",
   "id": "bca7840c-df9a-45d6-ba11-e020baeb2e0e",
   "metadata": {},
   "source": [
    "# Import the necessary packages\n",
    "import csv\n",
    "import pandas as pd\n",
    "import folium\n",
    "import matplotlib.pyplot as plt\n",
    "import seaborn as sns"
   ]
  },
  {
   "cell_type": "raw",
   "id": "0a45d91f-68c2-421e-a51e-886eb868d4fe",
   "metadata": {},
   "source": [
    "import warnings\n",
    "\n",
    "# Ignore Warnings\n",
    "warnings.filterwarnings('ignore', category=FutureWarning)"
   ]
  },
  {
   "cell_type": "raw",
   "id": "6d4c2aca-8443-48cb-9894-245a14317fc6",
   "metadata": {},
   "source": [
    "# Read the datasets using pandas.read_csv\n",
    "# We shall read each csv file and store it as a dataframe\n",
    "url = (\"https://cf-courses-data.s3.us.cloud-object-storage.appdomain.cloud/IBMDeveloperSkillsNetwork-DB0201EN-SkillsNetwork/labs/FinalModule_Coursera_V5/data/ChicagoCrimeData.csv?utm_medium=Exinfluencer&utm_source=Exinfluencer&utm_content=000026UJ&utm_term=10006555&utm_id=NA-SkillsNetwork-Channel-SkillsNetworkCoursesIBMDeveloperSkillsNetworkDB0201ENSkillsNetwork20127838-2021-01-01\")\n",
    "df1= pd.read_csv(url)\n",
    "\n",
    "url2=('https://cf-courses-data.s3.us.cloud-object-storage.appdomain.cloud/IBMDeveloperSkillsNetwork-DB0201EN-SkillsNetwork/labs/FinalModule_Coursera_V5/data/ChicagoCensusData.csv?utm_medium=Exinfluencer&utm_source=Exinfluencer&utm_content=000026UJ&utm_term=10006555&utm_id=NA-SkillsNetwork-Channel-SkillsNetworkCoursesIBMDeveloperSkillsNetworkDB0201ENSkillsNetwork20127838-2021-01-01')\n",
    "df2=pd.read_csv(url2)"
   ]
  },
  {
   "cell_type": "markdown",
   "id": "1cd46053-b088-46ee-b93b-c56d9c9f9e21",
   "metadata": {},
   "source": [
    "## Analyzing Crimes involving minors\n",
    "-------------------------------------\n",
    "Now that we have stored our data as dataframes, we can perform simple analysis procedures\n",
    "\n",
    "We shall start by analysing and mapping the areas where crimes involving minors took place. We shall use Folium, a package that allows us to create simple interactive maps in jupyter notebooks. For detailed information on the use of Folium chck out its documentation here: [Folium](https://python-visualization.github.io/folium/latest/)"
   ]
  },
  {
   "cell_type": "raw",
   "id": "40f71a39-8aed-4204-bca5-0cff72b305c6",
   "metadata": {},
   "source": [
    "# Subset the Loiquor law violation offenses\n",
    "liquor_crime = df1[df1['PRIMARY_TYPE']=='LIQUOR LAW VIOLATION']\n",
    "liquor_crime"
   ]
  },
  {
   "cell_type": "markdown",
   "id": "38099615-2658-4d72-beb4-bfdb8e688446",
   "metadata": {},
   "source": [
    "We shall use the coordinates provided in the data to ma out the areas."
   ]
  },
  {
   "cell_type": "raw",
   "id": "1a486504-cb1a-4805-9836-605034e5da41",
   "metadata": {},
   "source": [
    "#Filter out the necessary columns\n",
    "ll = liquor_crime[['PRIMARY_TYPE', 'DESCRIPTION', 'ARREST', 'COMMUNITY_AREA_NUMBER', 'LATITUDE', 'LONGITUDE']]\n",
    "ll"
   ]
  },
  {
   "cell_type": "raw",
   "id": "26fef48a-12ef-45a9-a620-b705ad1f85ba",
   "metadata": {},
   "source": [
    "# Convert the first row to a list\n",
    "c1 = ll.iloc[0, :].tolist()\n",
    "c1"
   ]
  },
  {
   "cell_type": "raw",
   "id": "acae6f5e-359b-4fd5-9ce7-0f8ae4bc8e9d",
   "metadata": {},
   "source": [
    "# Convert second row to a list\n",
    "c2 = ll.iloc[1, :].tolist()\n",
    "c2"
   ]
  },
  {
   "cell_type": "raw",
   "id": "092236d2-6191-43d1-b7ab-07cf52bd7612",
   "metadata": {},
   "source": [
    "# Map out the locations\n",
    "\n",
    "# Center the map to a an area of interest\n",
    "m=folium.Map(location = [c1[-2], c1[-1]],\n",
    "            tiles='OpenStreetMap',\n",
    "            zoom_start=10)\n",
    "\n",
    "#We shall add markers to represent the areas in our map\n",
    "folium.Marker(location=[c1[-2], c1[-1]],\n",
    "             tooltip= c1[0],\n",
    "             popup=c1[1],\n",
    "             icon=folium.Icon()\n",
    "             ).add_to(m)\n",
    "folium.Marker(location=[c2[-2], c2[-1]],\n",
    "             tooltip= c2[0],\n",
    "             popup=c2[1],\n",
    "             icon=folium.Icon(color='red')\n",
    "             ).add_to(m)\n",
    "\n",
    "#Display our map\n",
    "m"
   ]
  },
  {
   "cell_type": "raw",
   "id": "4fd2951e-5d50-4495-bbde-a451f94e0122",
   "metadata": {},
   "source": [
    "# Save the map as HTML to share and view in a different browser\n",
    "m.save('output/chicago_liquor_crime_map.html')"
   ]
  },
  {
   "cell_type": "markdown",
   "id": "13cbabe2-a9cb-4858-8ce4-2523279ff6d7",
   "metadata": {},
   "source": [
    "## Analyzing the top 10 Crime Prone Areas\n",
    "------------------------------------------\n",
    "We shall analyse the areas with the most crime incidents reported from our datasets. The crimes are recorded based on areas where the crime took place.\n",
    "We shall therefore anlayze the top 10 areas with the most crime incidents recorded as well as create visuals on the same\n",
    "\n",
    "The crime datasets records areas based on the area number and lacks the names of the areas. The census data contains the names of the areas as well as community area numbers of the same. We shall therefore merge both datasets so as to get the area names in our crime dataset"
   ]
  },
  {
   "cell_type": "raw",
   "id": "2d884c8e-0352-4db5-82f1-8445121d700e",
   "metadata": {},
   "source": [
    "# Subset our census datasets to the required columns\n",
    "comm_name = df2[['COMMUNITY_AREA_NUMBER', 'COMMUNITY_AREA_NAME', 'PERCENT_HOUSEHOLDS_BELOW_POVERTY']]\n",
    "comm_name"
   ]
  },
  {
   "cell_type": "raw",
   "id": "63372d4e-990b-4d43-9570-6e5d3aef7398",
   "metadata": {},
   "source": [
    "# We shall merge our crime dataframe with our subset census dataframe using pd.merge()\n",
    "merged1 = df1.merge(comm_name, how='outer', on='COMMUNITY_AREA_NUMBER')\n",
    "merged1.head()"
   ]
  },
  {
   "cell_type": "raw",
   "id": "8e021938-b401-4e87-a6a5-c37b4e759af2",
   "metadata": {},
   "source": [
    "merged1.shape"
   ]
  },
  {
   "cell_type": "raw",
   "id": "290c9ba9-ffd0-4a3b-ae84-524d9ce7db9c",
   "metadata": {},
   "source": [
    "# Group the dataframe based on area names and number and count the total number of incidents reported  in each area\n",
    "new=merged1.groupby(['COMMUNITY_AREA_NUMBER', 'COMMUNITY_AREA_NAME']).size()\n",
    "\n",
    "# Create a new dataframe with incidents sorted in descending order\n",
    "top_areas = new.sort_values(ascending=False).reset_index(name='Number of Incidents')\n"
   ]
  },
  {
   "cell_type": "raw",
   "id": "9325acca-eabe-4822-b508-7a886ea7712b",
   "metadata": {},
   "source": [
    "top_areas.head()"
   ]
  },
  {
   "cell_type": "raw",
   "id": "a723d3a4-a014-40c2-8dc0-f2dcdda82917",
   "metadata": {},
   "source": [
    "# Subset the top 10 areas with the most recorded crimes\n",
    "top_unique = top_areas.iloc[:10, :]"
   ]
  },
  {
   "cell_type": "raw",
   "id": "b0dfc5e0-17d1-43ed-b933-5c7c466b059b",
   "metadata": {},
   "source": [
    "top_unique"
   ]
  },
  {
   "cell_type": "markdown",
   "id": "3a41f252-5fb6-4672-a269-16794a0fa618",
   "metadata": {},
   "source": [
    "We shall use the new dataframe to extract the latitude and longitudes of the top crime areas so as to use in mapping"
   ]
  },
  {
   "cell_type": "raw",
   "id": "03ee587d-b66f-46df-bdc3-9cc607b84bd1",
   "metadata": {},
   "source": [
    "# Convert the arrea number column to a list\n",
    "areas = top_unique.iloc[:, 0].tolist()\n",
    "areas"
   ]
  },
  {
   "cell_type": "raw",
   "id": "36485a55-85c5-43ea-86d5-b7b4fa5694cd",
   "metadata": {},
   "source": [
    "# Subset our crimes dataframe to the top 10 areas and drop duplicates so as to remain with unique names and location details of the areas\n",
    "locations = df1[df1['COMMUNITY_AREA_NUMBER'].isin(areas)]\n",
    "new_loc=locations.drop_duplicates(subset = 'COMMUNITY_AREA_NUMBER')\n",
    "new_loc"
   ]
  },
  {
   "cell_type": "raw",
   "id": "9535b6f1-431e-4cad-8f46-52760e3d4555",
   "metadata": {},
   "source": [
    "# Convert our latitude and Longitude to list, we shall add these as columns to our top 10 crime dataframe\n",
    "lat = new_loc['LATITUDE'].tolist()\n",
    "\n",
    "lon = new_loc['LONGITUDE'].tolist()"
   ]
  },
  {
   "cell_type": "raw",
   "id": "98d8da64-45e7-487c-8c5e-0c738e4dbe44",
   "metadata": {},
   "source": [
    "# Add the lat, long to our top 10 crime areas dataframe\n",
    "top_unique.loc[:, 'LATITUDE'] = lat\n",
    "top_unique.loc[:, 'LONGITUDE'] = lon\n",
    "top_unique"
   ]
  },
  {
   "cell_type": "raw",
   "id": "22b0db8f-efd2-4600-b917-76b7b88233c0",
   "metadata": {},
   "source": [
    "# You can choose to convert the community area number to a string type\n",
    "top_unique.loc[:, 'COMMUNITY_AREA_NUMBER'] = top_unique['COMMUNITY_AREA_NUMBER'].astype('str')\n",
    "top_unique.dtypes"
   ]
  },
  {
   "cell_type": "raw",
   "id": "4bce9080-07d8-495b-8dc4-a0165058bb8a",
   "metadata": {},
   "source": [
    "# Perform simple statistical analysis on the dataframe\n",
    "top_unique.describe()"
   ]
  },
  {
   "cell_type": "markdown",
   "id": "f6abd7e1-851a-4bec-9263-968f12d7a65c",
   "metadata": {},
   "source": [
    "We finally have the subset dataframe of the top 10 crime areas from the crime dataset\n",
    "\n",
    "We shall use this dataframe to create our map and a plot showing the incidents reported per area."
   ]
  },
  {
   "cell_type": "raw",
   "id": "d232d612-b23c-402a-afca-f969dd7a7656",
   "metadata": {},
   "source": [
    "# Create a list containing the values to include in our map\n",
    "loc_des = top_unique[['COMMUNITY_AREA_NAME', 'Number of Incidents', 'LATITUDE', 'LONGITUDE']].values.tolist()\n",
    "loc_des"
   ]
  },
  {
   "cell_type": "raw",
   "id": "0a6ce11a-0c82-494c-ab97-a0ed44d09d84",
   "metadata": {
    "scrolled": true
   },
   "source": [
    "# Center or map around Chicago and add the areas as markes to our map\n",
    "\n",
    "m=folium.Map(location = [loc_des[0][2], loc_des[0][3]],\n",
    "            tiles='OpenStreetMap',\n",
    "            zoom_start=10)\n",
    "\n",
    "folium.Marker(location=[loc_des[0][2], loc_des[0][3]],\n",
    "             tooltip= loc_des[0][0],\n",
    "             popup='Incidents: ' + str(loc_des[0][1]),\n",
    "             icon=folium.Icon(color='red')\n",
    "             ).add_to(m)\n",
    "\n",
    "folium.Marker(location=[loc_des[1][2], loc_des[1][3]],\n",
    "             tooltip= loc_des[1][0],\n",
    "             popup='Incidents: ' + str(loc_des[1][1]),\n",
    "             icon=folium.Icon(color='red')\n",
    "             ).add_to(m)\n",
    "folium.Marker(location=[loc_des[2][2], loc_des[2][3]],\n",
    "             tooltip= loc_des[2][0],\n",
    "             popup='Incidents: ' + str(loc_des[2][1]),\n",
    "             icon=folium.Icon(color='red')\n",
    "             ).add_to(m)\n",
    "\n",
    "folium.Marker(location=[loc_des[3][2], loc_des[3][3]],\n",
    "             tooltip= loc_des[3][0],\n",
    "             popup='Incidents: ' + str(loc_des[3][1]),\n",
    "             icon=folium.Icon(color='red')\n",
    "             ).add_to(m)\n",
    "\n",
    "folium.Marker(location=[loc_des[4][2], loc_des[4][3]],\n",
    "             tooltip= loc_des[4][0],\n",
    "             popup='Incidents: ' + str(loc_des[4][1]),\n",
    "             icon=folium.Icon(color='red')\n",
    "             ).add_to(m)\n",
    "\n",
    "folium.Marker(location=[loc_des[5][2], loc_des[5][3]],\n",
    "             tooltip= loc_des[5][0],\n",
    "             popup='Incidents: ' + str(loc_des[5][1]),\n",
    "             icon=folium.Icon(color='red')\n",
    "             ).add_to(m)\n",
    "\n",
    "folium.Marker(location=[loc_des[6][2], loc_des[6][3]],\n",
    "             tooltip= loc_des[6][0],\n",
    "             popup='Incidents: ' + str(loc_des[6][1]),\n",
    "             icon=folium.Icon(color='red')\n",
    "             ).add_to(m)\n",
    "\n",
    "folium.Marker(location=[loc_des[7][2], loc_des[7][3]],\n",
    "             tooltip= loc_des[7][0],\n",
    "             popup='Incidents: ' + str(loc_des[7][1]),\n",
    "             icon=folium.Icon(color='red')\n",
    "             ).add_to(m)\n",
    "\n",
    "folium.Marker(location=[loc_des[8][2], loc_des[8][3]],\n",
    "             tooltip= loc_des[8][0],\n",
    "             popup='Incidents: ' + str(loc_des[8][1]),\n",
    "             icon=folium.Icon(color='red')\n",
    "             ).add_to(m)\n",
    "\n",
    "folium.Marker(location=[loc_des[9][2], loc_des[9][3]],\n",
    "             tooltip= loc_des[9][0],\n",
    "             popup='Incidents: ' + str(loc_des[9][1]),\n",
    "             icon=folium.Icon(color='red')\n",
    "             ).add_to(m)\n",
    "\n",
    "m"
   ]
  },
  {
   "cell_type": "raw",
   "id": "e0f43886-9c51-4587-a8b1-008c8c085f82",
   "metadata": {},
   "source": [
    "# Save our map as a html file to share\n",
    "m.save('output/chicago_top_crime_hotspots.html')"
   ]
  },
  {
   "cell_type": "raw",
   "id": "1a73b80f-3234-4dbb-a84a-d677946c7cf3",
   "metadata": {},
   "source": [
    "# Plot the areas and the number of incidents reported\n",
    "sns.set_theme(style = 'whitegrid')\n",
    "fig, ax = plt.subplots(1, 1, figsize=(8, 5))\n",
    "top_unique.plot(ax=ax,\n",
    "               x='COMMUNITY_AREA_NAME',\n",
    "               y='Number of Incidents',\n",
    "               kind ='bar',\n",
    "               facecolor='blue')\n",
    "ax.set(title = 'Top Crime Prone Areas',\n",
    "       ylabel= 'Number of Reported Incidents',\n",
    "       xlabel='AREA',\n",
    "      ylim=(0, 50))\n",
    "\n",
    "#Adding labels above the bars.\n",
    "for container in ax.containers:  # Loop through bar containers\n",
    "    ax.bar_label(container)\n",
    "\n",
    "plt.tight_layout()\n",
    "plt.show()\n",
    "plt.savefig('output/top_crime_prone_areas.png')"
   ]
  },
  {
   "cell_type": "code",
   "execution_count": null,
   "id": "67d1759a-bf11-4a64-b8ce-f7b292fb6ed7",
   "metadata": {},
   "outputs": [],
   "source": []
  }
 ],
 "metadata": {
  "kernelspec": {
   "display_name": "Python 3 (ipykernel)",
   "language": "python",
   "name": "python3"
  },
  "language_info": {
   "codemirror_mode": {
    "name": "ipython",
    "version": 3
   },
   "file_extension": ".py",
   "mimetype": "text/x-python",
   "name": "python",
   "nbconvert_exporter": "python",
   "pygments_lexer": "ipython3",
   "version": "3.12.7"
  }
 },
 "nbformat": 4,
 "nbformat_minor": 5
}
